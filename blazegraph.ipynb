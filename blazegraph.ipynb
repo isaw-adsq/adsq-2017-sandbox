{
 "cells": [
  {
   "cell_type": "markdown",
   "metadata": {},
   "source": [
    "It might be useful to run 'pip3 install &lt;library&gt; --upgrade\" to make sure you have latest versions of pandas, matplotlib, etc."
   ]
  },
  {
   "cell_type": "code",
   "execution_count": 2,
   "metadata": {
    "collapsed": false
   },
   "outputs": [],
   "source": [
    "import gzip            \n",
    "import io              \n",
    "import numpy as np\n",
    "import pandas as pd    \n",
    "import rdflib\n",
    "from rdflib import Namespace\n",
    "from SPARQLWrapper import SPARQLWrapper, JSON\n",
    "import urllib.request  \n",
    "\n",
    "import matplotlib.pyplot as plt\n",
    "plt.style.use('ggplot')\n",
    "\n",
    "%matplotlib inline"
   ]
  },
  {
   "cell_type": "markdown",
   "metadata": {},
   "source": [
    "## Access an Enpoint"
   ]
  },
  {
   "cell_type": "code",
   "execution_count": 3,
   "metadata": {
    "collapsed": true
   },
   "outputs": [],
   "source": [
    "endpoint = SPARQLWrapper(\"http://localhost:9999/blazegraph/namespace/ramphs/sparql\")"
   ]
  },
  {
   "cell_type": "code",
   "execution_count": 46,
   "metadata": {
    "collapsed": false
   },
   "outputs": [
    {
     "data": {
      "text/plain": [
       "{'head': {'vars': ['s', 'start']},\n",
       " 'results': {'bindings': [{'s': {'type': 'uri',\n",
       "     'value': 'http://example.org/id/Augustan'},\n",
       "    'start': {'datatype': 'http://www.w3.org/2001/XMLSchema#double',\n",
       "     'type': 'literal',\n",
       "     'value': '-27.0'}},\n",
       "   {'s': {'type': 'uri', 'value': 'http://example.org/id/Caesarean'},\n",
       "    'start': {'datatype': 'http://www.w3.org/2001/XMLSchema#double',\n",
       "     'type': 'literal',\n",
       "     'value': '-49.0'}},\n",
       "   {'s': {'type': 'uri', 'value': 'http://example.org/id/FirstCentury'},\n",
       "    'start': {'datatype': 'http://www.w3.org/2001/XMLSchema#double',\n",
       "     'type': 'literal',\n",
       "     'value': '1.0'}},\n",
       "   {'s': {'type': 'uri', 'value': 'http://example.org/id/Flavian'},\n",
       "    'start': {'datatype': 'http://www.w3.org/2001/XMLSchema#double',\n",
       "     'type': 'literal',\n",
       "     'value': '69.0'}},\n",
       "   {'s': {'type': 'uri', 'value': 'http://example.org/id/FourthCentury'},\n",
       "    'start': {'datatype': 'http://www.w3.org/2001/XMLSchema#double',\n",
       "     'type': 'literal',\n",
       "     'value': '300.0'}},\n",
       "   {'s': {'type': 'uri', 'value': 'http://example.org/id/Hadrianic'},\n",
       "    'start': {'datatype': 'http://www.w3.org/2001/XMLSchema#double',\n",
       "     'type': 'literal',\n",
       "     'value': '117.0'}},\n",
       "   {'s': {'type': 'uri', 'value': 'http://example.org/id/Imperial'},\n",
       "    'start': {'datatype': 'http://www.w3.org/2001/XMLSchema#double',\n",
       "     'type': 'literal',\n",
       "     'value': '50.0'}},\n",
       "   {'s': {'type': 'uri', 'value': 'http://example.org/id/Julio-Claudian'},\n",
       "    'start': {'datatype': 'http://www.w3.org/2001/XMLSchema#double',\n",
       "     'type': 'literal',\n",
       "     'value': '-27.0'}},\n",
       "   {'s': {'type': 'uri', 'value': 'http://example.org/id/Late1stEarly2nd'},\n",
       "    'start': {'datatype': 'http://www.w3.org/2001/XMLSchema#double',\n",
       "     'type': 'literal',\n",
       "     'value': '75.0'}},\n",
       "   {'s': {'type': 'uri', 'value': 'http://example.org/id/LateSecondCentury'},\n",
       "    'start': {'datatype': 'http://www.w3.org/2001/XMLSchema#double',\n",
       "     'type': 'literal',\n",
       "     'value': '150.0'}},\n",
       "   {'s': {'type': 'uri', 'value': 'http://example.org/id/Neronian'},\n",
       "    'start': {'datatype': 'http://www.w3.org/2001/XMLSchema#double',\n",
       "     'type': 'literal',\n",
       "     'value': '54.0'}},\n",
       "   {'s': {'type': 'uri', 'value': 'http://example.org/id/Post-Severan'},\n",
       "    'start': {'datatype': 'http://www.w3.org/2001/XMLSchema#double',\n",
       "     'type': 'literal',\n",
       "     'value': '235.0'}},\n",
       "   {'s': {'type': 'uri', 'value': 'http://example.org/id/Republican'},\n",
       "    'start': {'datatype': 'http://www.w3.org/2001/XMLSchema#double',\n",
       "     'type': 'literal',\n",
       "     'value': '-70.0'}},\n",
       "   {'s': {'type': 'uri', 'value': 'http://example.org/id/SecondCentury'},\n",
       "    'start': {'datatype': 'http://www.w3.org/2001/XMLSchema#double',\n",
       "     'type': 'literal',\n",
       "     'value': '100.0'}},\n",
       "   {'s': {'type': 'uri', 'value': 'http://example.org/id/Severan'},\n",
       "    'start': {'datatype': 'http://www.w3.org/2001/XMLSchema#double',\n",
       "     'type': 'literal',\n",
       "     'value': '193.0'}},\n",
       "   {'s': {'type': 'uri', 'value': 'http://example.org/id/ThirdCentury'},\n",
       "    'start': {'datatype': 'http://www.w3.org/2001/XMLSchema#double',\n",
       "     'type': 'literal',\n",
       "     'value': '200.0'}}]}}"
      ]
     },
     "execution_count": 46,
     "metadata": {},
     "output_type": "execute_result"
    }
   ],
   "source": [
    "query = \"\"\"\n",
    "PREFIX class: <http://example.org/class/>\n",
    "PREFIX id: <http://example.org/id/>\n",
    "PREFIX property: <http://example.org/property/>\n",
    "\n",
    "SELECT * WHERE { ?s a class:chronogrp ;\n",
    "                    property:start ?start}\"\"\"\n",
    "           \n",
    "endpoint.setQuery(query)\n",
    "endpoint.setReturnFormat(JSON)\n",
    "result = endpoint.query().convert()\n",
    "result"
   ]
  },
  {
   "cell_type": "code",
   "execution_count": 18,
   "metadata": {
    "collapsed": false
   },
   "outputs": [
    {
     "name": "stdout",
     "output_type": "stream",
     "text": [
      "http://example.org/id/Augustan\n",
      "http://example.org/id/Caesarean\n",
      "http://example.org/id/FirstCentury\n",
      "http://example.org/id/Flavian\n",
      "http://example.org/id/FourthCentury\n",
      "http://example.org/id/Hadrianic\n",
      "http://example.org/id/Imperial\n",
      "http://example.org/id/Julio-Claudian\n",
      "http://example.org/id/Late1stEarly2nd\n",
      "http://example.org/id/LateSecondCentury\n",
      "http://example.org/id/Neronian\n",
      "http://example.org/id/Post-Severan\n",
      "http://example.org/id/Republican\n",
      "http://example.org/id/SecondCentury\n",
      "http://example.org/id/Severan\n",
      "http://example.org/id/ThirdCentury\n"
     ]
    }
   ],
   "source": [
    "for r in result[\"results\"][\"bindings\"]:\n",
    "        print(r['s']['value'])"
   ]
  },
  {
   "cell_type": "code",
   "execution_count": 52,
   "metadata": {
    "collapsed": false
   },
   "outputs": [
    {
     "data": {
      "text/html": [
       "<div>\n",
       "<table border=\"1\" class=\"dataframe\">\n",
       "  <thead>\n",
       "    <tr style=\"text-align: right;\">\n",
       "      <th></th>\n",
       "      <th>start</th>\n",
       "      <th>uri</th>\n",
       "    </tr>\n",
       "  </thead>\n",
       "  <tbody>\n",
       "    <tr>\n",
       "      <th>12</th>\n",
       "      <td>-70.0</td>\n",
       "      <td>http://example.org/id/Republican</td>\n",
       "    </tr>\n",
       "    <tr>\n",
       "      <th>1</th>\n",
       "      <td>-49.0</td>\n",
       "      <td>http://example.org/id/Caesarean</td>\n",
       "    </tr>\n",
       "    <tr>\n",
       "      <th>0</th>\n",
       "      <td>-27.0</td>\n",
       "      <td>http://example.org/id/Augustan</td>\n",
       "    </tr>\n",
       "    <tr>\n",
       "      <th>7</th>\n",
       "      <td>-27.0</td>\n",
       "      <td>http://example.org/id/Julio-Claudian</td>\n",
       "    </tr>\n",
       "    <tr>\n",
       "      <th>2</th>\n",
       "      <td>1.0</td>\n",
       "      <td>http://example.org/id/FirstCentury</td>\n",
       "    </tr>\n",
       "    <tr>\n",
       "      <th>6</th>\n",
       "      <td>50.0</td>\n",
       "      <td>http://example.org/id/Imperial</td>\n",
       "    </tr>\n",
       "    <tr>\n",
       "      <th>10</th>\n",
       "      <td>54.0</td>\n",
       "      <td>http://example.org/id/Neronian</td>\n",
       "    </tr>\n",
       "    <tr>\n",
       "      <th>3</th>\n",
       "      <td>69.0</td>\n",
       "      <td>http://example.org/id/Flavian</td>\n",
       "    </tr>\n",
       "    <tr>\n",
       "      <th>8</th>\n",
       "      <td>75.0</td>\n",
       "      <td>http://example.org/id/Late1stEarly2nd</td>\n",
       "    </tr>\n",
       "    <tr>\n",
       "      <th>13</th>\n",
       "      <td>100.0</td>\n",
       "      <td>http://example.org/id/SecondCentury</td>\n",
       "    </tr>\n",
       "    <tr>\n",
       "      <th>5</th>\n",
       "      <td>117.0</td>\n",
       "      <td>http://example.org/id/Hadrianic</td>\n",
       "    </tr>\n",
       "    <tr>\n",
       "      <th>9</th>\n",
       "      <td>150.0</td>\n",
       "      <td>http://example.org/id/LateSecondCentury</td>\n",
       "    </tr>\n",
       "    <tr>\n",
       "      <th>14</th>\n",
       "      <td>193.0</td>\n",
       "      <td>http://example.org/id/Severan</td>\n",
       "    </tr>\n",
       "    <tr>\n",
       "      <th>15</th>\n",
       "      <td>200.0</td>\n",
       "      <td>http://example.org/id/ThirdCentury</td>\n",
       "    </tr>\n",
       "    <tr>\n",
       "      <th>11</th>\n",
       "      <td>235.0</td>\n",
       "      <td>http://example.org/id/Post-Severan</td>\n",
       "    </tr>\n",
       "    <tr>\n",
       "      <th>4</th>\n",
       "      <td>300.0</td>\n",
       "      <td>http://example.org/id/FourthCentury</td>\n",
       "    </tr>\n",
       "  </tbody>\n",
       "</table>\n",
       "</div>"
      ],
      "text/plain": [
       "    start                                      uri\n",
       "12  -70.0         http://example.org/id/Republican\n",
       "1   -49.0          http://example.org/id/Caesarean\n",
       "0   -27.0           http://example.org/id/Augustan\n",
       "7   -27.0     http://example.org/id/Julio-Claudian\n",
       "2     1.0       http://example.org/id/FirstCentury\n",
       "6    50.0           http://example.org/id/Imperial\n",
       "10   54.0           http://example.org/id/Neronian\n",
       "3    69.0            http://example.org/id/Flavian\n",
       "8    75.0    http://example.org/id/Late1stEarly2nd\n",
       "13  100.0      http://example.org/id/SecondCentury\n",
       "5   117.0          http://example.org/id/Hadrianic\n",
       "9   150.0  http://example.org/id/LateSecondCentury\n",
       "14  193.0            http://example.org/id/Severan\n",
       "15  200.0       http://example.org/id/ThirdCentury\n",
       "11  235.0       http://example.org/id/Post-Severan\n",
       "4   300.0      http://example.org/id/FourthCentury"
      ]
     },
     "execution_count": 52,
     "metadata": {},
     "output_type": "execute_result"
    }
   ],
   "source": [
    "s = []\n",
    "start = []\n",
    "for r in result[\"results\"][\"bindings\"]:\n",
    "        s.append(str(r['s']['value']))\n",
    "        start.append(float(r['start']['value']))\n",
    "        \n",
    "pd.DataFrame({'uri': s, 'start': start}).sort_values(by = 'start')"
   ]
  },
  {
   "cell_type": "code",
   "execution_count": 33,
   "metadata": {
    "collapsed": false
   },
   "outputs": [],
   "source": [
    "g.serialize(destination='ramphs.ttl', format='turtle')"
   ]
  }
 ],
 "metadata": {
  "kernelspec": {
   "display_name": "Python 3",
   "language": "python",
   "name": "python3"
  },
  "language_info": {
   "codemirror_mode": {
    "name": "ipython",
    "version": 3
   },
   "file_extension": ".py",
   "mimetype": "text/x-python",
   "name": "python",
   "nbconvert_exporter": "python",
   "pygments_lexer": "ipython3",
   "version": "3.5.2"
  }
 },
 "nbformat": 4,
 "nbformat_minor": 1
}
