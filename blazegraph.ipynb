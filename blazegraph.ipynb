{
 "cells": [
  {
   "cell_type": "markdown",
   "metadata": {},
   "source": [
    "It might be useful to run 'pip3 install &lt;library&gt; --upgrade\" to make sure you have latest versions of pandas, matplotlib, etc."
   ]
  },
  {
   "cell_type": "code",
   "execution_count": null,
   "metadata": {
    "collapsed": false
   },
   "outputs": [],
   "source": [
    "import gzip            \n",
    "import io              \n",
    "import numpy as np\n",
    "import pandas as pd    \n",
    "import rdflib\n",
    "from rdflib import Namespace\n",
    "from SPARQLWrapper import SPARQLWrapper, JSON # ADD THIS\n",
    "import urllib.request  \n",
    "\n",
    "import matplotlib.pyplot as plt\n",
    "plt.style.use('ggplot')\n",
    "\n",
    "%matplotlib inline"
   ]
  },
  {
   "cell_type": "markdown",
   "metadata": {},
   "source": [
    "## Access an Endpoint"
   ]
  },
  {
   "cell_type": "code",
   "execution_count": null,
   "metadata": {
    "collapsed": true
   },
   "outputs": [],
   "source": [
    "endpoint = SPARQLWrapper(\"http://localhost:9999/blazegraph/namespace/ramphs/sparql\")"
   ]
  },
  {
   "cell_type": "code",
   "execution_count": null,
   "metadata": {
    "collapsed": false
   },
   "outputs": [],
   "source": [
    "query = \"\"\"\n",
    "PREFIX class: <http://example.org/class/>\n",
    "PREFIX id: <http://example.org/id/>\n",
    "PREFIX property: <http://example.org/property/>\n",
    "\n",
    "SELECT * WHERE { ?s a class:chronogrp ;\n",
    "                    property:start ?start}\"\"\"\n",
    "           \n",
    "endpoint.setQuery(query)\n",
    "endpoint.setReturnFormat(JSON)\n",
    "result = endpoint.query().convert()\n",
    "type(result)"
   ]
  },
  {
   "cell_type": "code",
   "execution_count": null,
   "metadata": {
    "collapsed": false
   },
   "outputs": [],
   "source": [
    "result"
   ]
  },
  {
   "cell_type": "code",
   "execution_count": null,
   "metadata": {
    "collapsed": false
   },
   "outputs": [],
   "source": [
    "for r in result[\"results\"][\"bindings\"]:\n",
    "        print(r['s']['value'])"
   ]
  },
  {
   "cell_type": "code",
   "execution_count": null,
   "metadata": {
    "collapsed": false
   },
   "outputs": [],
   "source": [
    "s = []\n",
    "start = []\n",
    "for r in result[\"results\"][\"bindings\"]:\n",
    "        s.append(str(r['s']['value']))\n",
    "        start.append(float(r['start']['value']))\n",
    "        \n",
    "pd.DataFrame({'uri': s, 'start': start}).sort_values(by = 'start')"
   ]
  }
 ],
 "metadata": {
  "kernelspec": {
   "display_name": "Python 3",
   "language": "python",
   "name": "python3"
  },
  "language_info": {
   "codemirror_mode": {
    "name": "ipython",
    "version": 3
   },
   "file_extension": ".py",
   "mimetype": "text/x-python",
   "name": "python",
   "nbconvert_exporter": "python",
   "pygments_lexer": "ipython3",
   "version": "3.5.2"
  }
 },
 "nbformat": 4,
 "nbformat_minor": 1
}
