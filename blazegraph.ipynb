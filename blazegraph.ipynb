{
 "cells": [
  {
   "cell_type": "markdown",
   "metadata": {},
   "source": [
    "It might be useful to run 'pip3 install &lt;library&gt; --upgrade\" to make sure you have latest versions of pandas, matplotlib, etc."
   ]
  },
  {
   "cell_type": "code",
   "execution_count": 1,
   "metadata": {
    "collapsed": false
   },
   "outputs": [],
   "source": [
    "import gzip            \n",
    "import io              \n",
    "import numpy as np\n",
    "import pandas as pd    \n",
    "import rdflib\n",
    "from rdflib import Namespace\n",
    "from SPARQLWrapper import SPARQLWrapper, JSON # ADD THIS\n",
    "import urllib.request  \n",
    "\n",
    "import matplotlib.pyplot as plt\n",
    "plt.style.use('ggplot')\n",
    "\n",
    "%matplotlib inline"
   ]
  },
  {
   "cell_type": "markdown",
   "metadata": {},
   "source": [
    "## Access an Endpoint"
   ]
  },
  {
   "cell_type": "code",
   "execution_count": 2,
   "metadata": {
    "collapsed": true
   },
   "outputs": [],
   "source": [
    "endpoint = SPARQLWrapper(\"http://localhost:9999/blazegraph/namespace/ramphs/sparql\")"
   ]
  },
  {
   "cell_type": "code",
   "execution_count": 10,
   "metadata": {
    "collapsed": false
   },
   "outputs": [
    {
     "data": {
      "text/plain": [
       "dict"
      ]
     },
     "execution_count": 10,
     "metadata": {},
     "output_type": "execute_result"
    }
   ],
   "source": [
    "query = \"\"\"\n",
    "INSERT DATA {}\"\"\"\n",
    "           \n",
    "endpoint.setQuery(query)\n",
    "endpoint.setReturnFormat(JSON)\n",
    "result = endpoint.query().convert()\n",
    "type(result)"
   ]
  },
  {
   "cell_type": "code",
   "execution_count": 11,
   "metadata": {
    "collapsed": false
   },
   "outputs": [
    {
     "data": {
      "text/plain": [
       "{'head': {'vars': ['address']},\n",
       " 'results': {'bindings': [{'address': {'type': 'uri',\n",
       "     'value': 'http://example.org/id/Augustan'}},\n",
       "   {'address': {'type': 'uri', 'value': 'http://example.org/id/Caesarean'}},\n",
       "   {'address': {'type': 'uri', 'value': 'http://example.org/id/FirstCentury'}},\n",
       "   {'address': {'type': 'uri', 'value': 'http://example.org/id/Flavian'}},\n",
       "   {'address': {'type': 'uri',\n",
       "     'value': 'http://example.org/id/FourthCentury'}},\n",
       "   {'address': {'type': 'uri', 'value': 'http://example.org/id/Hadrianic'}},\n",
       "   {'address': {'type': 'uri', 'value': 'http://example.org/id/Imperial'}},\n",
       "   {'address': {'type': 'uri',\n",
       "     'value': 'http://example.org/id/Julio-Claudian'}},\n",
       "   {'address': {'type': 'uri',\n",
       "     'value': 'http://example.org/id/Late1stEarly2nd'}},\n",
       "   {'address': {'type': 'uri',\n",
       "     'value': 'http://example.org/id/LateSecondCentury'}},\n",
       "   {'address': {'type': 'uri', 'value': 'http://example.org/id/Neronian'}},\n",
       "   {'address': {'type': 'uri', 'value': 'http://example.org/id/Post-Severan'}},\n",
       "   {'address': {'type': 'uri', 'value': 'http://example.org/id/Republican'}},\n",
       "   {'address': {'type': 'uri',\n",
       "     'value': 'http://example.org/id/SecondCentury'}},\n",
       "   {'address': {'type': 'uri', 'value': 'http://example.org/id/Severan'}},\n",
       "   {'address': {'type': 'uri',\n",
       "     'value': 'http://example.org/id/ThirdCentury'}}]}}"
      ]
     },
     "execution_count": 11,
     "metadata": {},
     "output_type": "execute_result"
    }
   ],
   "source": [
    "result"
   ]
  },
  {
   "cell_type": "code",
   "execution_count": 5,
   "metadata": {
    "collapsed": false
   },
   "outputs": [
    {
     "name": "stdout",
     "output_type": "stream",
     "text": [
      "http://example.org/id/Augustan\n",
      "http://example.org/id/Caesarean\n",
      "http://example.org/id/FirstCentury\n",
      "http://example.org/id/Flavian\n",
      "http://example.org/id/FourthCentury\n",
      "http://example.org/id/Hadrianic\n",
      "http://example.org/id/Imperial\n",
      "http://example.org/id/Julio-Claudian\n",
      "http://example.org/id/Late1stEarly2nd\n",
      "http://example.org/id/LateSecondCentury\n",
      "http://example.org/id/Neronian\n",
      "http://example.org/id/Post-Severan\n",
      "http://example.org/id/Republican\n",
      "http://example.org/id/SecondCentury\n",
      "http://example.org/id/Severan\n",
      "http://example.org/id/ThirdCentury\n"
     ]
    }
   ],
   "source": [
    "for r in result[\"results\"][\"bindings\"]:\n",
    "        print(r['uri']['value'])"
   ]
  },
  {
   "cell_type": "code",
   "execution_count": 14,
   "metadata": {
    "collapsed": false
   },
   "outputs": [
    {
     "data": {
      "text/html": [
       "<div>\n",
       "<table border=\"1\" class=\"dataframe\">\n",
       "  <thead>\n",
       "    <tr style=\"text-align: right;\">\n",
       "      <th></th>\n",
       "      <th>address</th>\n",
       "    </tr>\n",
       "  </thead>\n",
       "  <tbody>\n",
       "    <tr>\n",
       "      <th>0</th>\n",
       "      <td>http://example.org/id/Augustan</td>\n",
       "    </tr>\n",
       "    <tr>\n",
       "      <th>1</th>\n",
       "      <td>http://example.org/id/Caesarean</td>\n",
       "    </tr>\n",
       "    <tr>\n",
       "      <th>2</th>\n",
       "      <td>http://example.org/id/FirstCentury</td>\n",
       "    </tr>\n",
       "    <tr>\n",
       "      <th>3</th>\n",
       "      <td>http://example.org/id/Flavian</td>\n",
       "    </tr>\n",
       "    <tr>\n",
       "      <th>4</th>\n",
       "      <td>http://example.org/id/FourthCentury</td>\n",
       "    </tr>\n",
       "    <tr>\n",
       "      <th>5</th>\n",
       "      <td>http://example.org/id/Hadrianic</td>\n",
       "    </tr>\n",
       "    <tr>\n",
       "      <th>6</th>\n",
       "      <td>http://example.org/id/Imperial</td>\n",
       "    </tr>\n",
       "    <tr>\n",
       "      <th>7</th>\n",
       "      <td>http://example.org/id/Julio-Claudian</td>\n",
       "    </tr>\n",
       "    <tr>\n",
       "      <th>8</th>\n",
       "      <td>http://example.org/id/Late1stEarly2nd</td>\n",
       "    </tr>\n",
       "    <tr>\n",
       "      <th>9</th>\n",
       "      <td>http://example.org/id/LateSecondCentury</td>\n",
       "    </tr>\n",
       "    <tr>\n",
       "      <th>10</th>\n",
       "      <td>http://example.org/id/Neronian</td>\n",
       "    </tr>\n",
       "    <tr>\n",
       "      <th>11</th>\n",
       "      <td>http://example.org/id/Post-Severan</td>\n",
       "    </tr>\n",
       "    <tr>\n",
       "      <th>12</th>\n",
       "      <td>http://example.org/id/Republican</td>\n",
       "    </tr>\n",
       "    <tr>\n",
       "      <th>13</th>\n",
       "      <td>http://example.org/id/SecondCentury</td>\n",
       "    </tr>\n",
       "    <tr>\n",
       "      <th>14</th>\n",
       "      <td>http://example.org/id/Severan</td>\n",
       "    </tr>\n",
       "    <tr>\n",
       "      <th>15</th>\n",
       "      <td>http://example.org/id/ThirdCentury</td>\n",
       "    </tr>\n",
       "  </tbody>\n",
       "</table>\n",
       "</div>"
      ],
      "text/plain": [
       "                                    address\n",
       "0            http://example.org/id/Augustan\n",
       "1           http://example.org/id/Caesarean\n",
       "2        http://example.org/id/FirstCentury\n",
       "3             http://example.org/id/Flavian\n",
       "4       http://example.org/id/FourthCentury\n",
       "5           http://example.org/id/Hadrianic\n",
       "6            http://example.org/id/Imperial\n",
       "7      http://example.org/id/Julio-Claudian\n",
       "8     http://example.org/id/Late1stEarly2nd\n",
       "9   http://example.org/id/LateSecondCentury\n",
       "10           http://example.org/id/Neronian\n",
       "11       http://example.org/id/Post-Severan\n",
       "12         http://example.org/id/Republican\n",
       "13      http://example.org/id/SecondCentury\n",
       "14            http://example.org/id/Severan\n",
       "15       http://example.org/id/ThirdCentury"
      ]
     },
     "execution_count": 14,
     "metadata": {},
     "output_type": "execute_result"
    }
   ],
   "source": [
    "address = []\n",
    "start = []\n",
    "for r in result[\"results\"][\"bindings\"]:\n",
    "        address.append(str(r['address']['value']))\n",
    "        # start.append(float(r['start']['value']))\n",
    "        \n",
    "pd.DataFrame({'address': address} ) # , 'start': start}).sort_values(by = 'start')"
   ]
  }
 ],
 "metadata": {
  "kernelspec": {
   "display_name": "Python 3",
   "language": "python",
   "name": "python3"
  },
  "language_info": {
   "codemirror_mode": {
    "name": "ipython",
    "version": 3
   },
   "file_extension": ".py",
   "mimetype": "text/x-python",
   "name": "python",
   "nbconvert_exporter": "python",
   "pygments_lexer": "ipython3",
   "version": "3.5.2"
  }
 },
 "nbformat": 4,
 "nbformat_minor": 1
}
