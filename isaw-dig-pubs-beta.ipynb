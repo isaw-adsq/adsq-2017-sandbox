{
 "cells": [
  {
   "cell_type": "markdown",
   "metadata": {},
   "source": [
    "# Parsing RDFa in ISAW's Born Digital Publications"
   ]
  },
  {
   "cell_type": "markdown",
   "metadata": {},
   "source": [
    "Right now this notebook demonstrates loading and some simple parsing of the RDFa in ISAW's born digital publications. It has the side affect of confirming that the data in those publications is useable and begins to explore whether or not it is useful.\n",
    "\n",
    "After 'Setup', titles, authors, and referenced resources are listed."
   ]
  },
  {
   "cell_type": "markdown",
   "metadata": {},
   "source": [
    "## Setup"
   ]
  },
  {
   "cell_type": "markdown",
   "metadata": {},
   "source": [
    "The end result of the following cells is a Graph object holding the triples represented by the RDFa encoded in our various publications. Books haven't been added yet. Coming soon..."
   ]
  },
  {
   "cell_type": "code",
   "execution_count": null,
   "metadata": {
    "collapsed": false
   },
   "outputs": [],
   "source": [
    "import json\n",
    "import os\n",
    "import pandas as pd\n",
    "import re\n",
    "import urllib.request\n",
    "\n",
    "from bs4 import BeautifulSoup\n",
    "\n",
    "from IPython.display import HTML\n",
    "\n",
    "import rdflib\n",
    "\n",
    "import logging\n",
    "logger = logging.getLogger()\n",
    "logger.setLevel(logging.CRITICAL)\n",
    "\n",
    "\n",
    "pd.set_option('display.max_colwidth', -1)"
   ]
  },
  {
   "cell_type": "code",
   "execution_count": null,
   "metadata": {
    "collapsed": true
   },
   "outputs": [],
   "source": [
    "# namespaces for rdflib\n",
    "ns = {\"dcterms\" : \"http://purl.org/dc/terms/\",\n",
    "      \"foaf\"    : \"http://xmlns.com/foaf/0.1/\",\n",
    "      \"owl\"     : \"http://www.w3.org/2002/07/owl#\",\n",
    "      \"rdf\"     : \"http://www.w3.org/1999/02/22-rdf-syntax-ns#\",\n",
    "      \"rdfs\"    : \"http://www.w3.org/2000/01/rdf-schema#\" }"
   ]
  },
  {
   "cell_type": "code",
   "execution_count": null,
   "metadata": {
    "collapsed": false
   },
   "outputs": [],
   "source": [
    "# url_base = 'file:///Users/sfsh/Documents/isaw-papers-awdl/' # UGLY(!) but fast\n",
    "url_base_papers = 'http://isawnyu.github.io/isaw-papers-awdl/' # development\n",
    "url_base_books  = 'http://isawnyu.github.io/isaw-books-awdl/'\n",
    "# url_base = 'http://dlib.nyu.edu/awdl/isaw/isaw-papers/' # fully published\n",
    "\n",
    "# I do need to add in all the ISAW Papers 7 links. They're coming...\n",
    "urls_to_load = [{'url':url_base_papers + '1/', 'fn' : 'isaw-papers-1.xhtml'}] \n",
    "\n",
    "more = [\n",
    "                {'url':url_base_papers + '2/', 'fn' : 'isaw-papers-2.xhtml'},\n",
    "                {'url':url_base_papers + '3/', 'fn' : 'isaw-papers-3.xhtml'},\n",
    "                {'url':url_base_papers + '4/', 'fn' : 'isaw-papers-4.xhtml'},\n",
    "                {'url':url_base_papers + '5/', 'fn' : 'isaw-papers-5.xhtml'},\n",
    "                {'url':url_base_papers + '6/', 'fn' : 'isaw-papers-6.xhtml'},\n",
    "                {'url':url_base_papers + '7/', 'fn' : 'isaw-papers-7.xhtml'},\n",
    "                {'url':url_base_papers + '7/elliott-heath-muccigrosso/', 'fn' : 'isaw-papers-7-elliott-heath-muccigrosso.xhtml'},\n",
    "                {'url':url_base_papers + '7/acheson/', 'fn' : 'isaw-papers-7-acheson.xhtml'},\n",
    "                {'url':url_base_papers + '7/almas-babeu-krohn/', 'fn' : 'isaw-papers-7-almas-babeu-krohn.xhtml'},\n",
    "                {'url':url_base_papers + '7/benefiel-sprenkle/', 'fn' : 'isaw-papers-7-benefiel-sprenkle.xhtml'},\n",
    "                {'url':url_base_papers + '7/blackwell-smith/', 'fn' : 'isaw-papers-7-blackwell-smith.xhtml'},\n",
    "                {'url':url_base_papers + '7/elliott-jones/', 'fn' : 'isaw-papers-7-elliott-jones.xhtml'},\n",
    "                {'url':url_base_papers + '7/hafford/', 'fn' : 'isaw-papers-7-hafford.xhtml'},\n",
    "                {'url':url_base_papers + '7/heath/', 'fn' : 'isaw-papers-7-heath.xhtml'},\n",
    "                {'url':url_base_papers + '7/horne/', 'fn' : 'isaw-papers-7-horne.xhtml'},\n",
    "                {'url':url_base_papers + '7/kansa/', 'fn' : 'isaw-papers-7-kansa.xhtml'},\n",
    "                {'url':url_base_papers + '7/lana/', 'fn' : 'isaw-papers-7-lana.xhtml'},\n",
    "                {'url':url_base_papers + '7/liuzzo/', 'fn' : 'isaw-papers-7-liuzzo.xhtml'},\n",
    "                {'url':url_base_papers + '7/mackay/', 'fn' : 'isaw-papers-7-mackay.xhtml'},\n",
    "                {'url':url_base_papers + '7/mcmichael/', 'fn' : 'isaw-papers-7-mcmichael.xhtml'},\n",
    "                {'url':url_base_papers + '7/meadows-gruber/', 'fn' : 'isaw-papers-7-meadows-gruber.xhtml'},\n",
    "                {'url':url_base_papers + '7/meyers/', 'fn' : 'isaw-papers-7-meyers.xhtml'},\n",
    "                {'url':url_base_papers + '7/murray/', 'fn' : 'isaw-papers-7-murray.xhtml'},\n",
    "                {'url':url_base_papers + '7/nurmikko-fuller/', 'fn' : 'isaw-papers-7-nurmikko-fuller.xhtml'},\n",
    "                {'url':url_base_papers + '7/pearce-schmitz/', 'fn' : 'isaw-papers-7-pearce-schmitz.xhtml'},\n",
    "                {'url':url_base_papers + '7/pett/', 'fn' : 'isaw-papers-7-pett.xhtml'},\n",
    "                {'url':url_base_papers + '7/poehler/', 'fn' : 'isaw-papers-7-poehler.xhtml'},\n",
    "                {'url':url_base_papers + '7/rabinowitz/', 'fn' : 'isaw-papers-7-rabinowitz.xhtml'},\n",
    "                {'url':url_base_papers + '7/reinhard/', 'fn' : 'isaw-papers-7-reinhard.xhtml'},\n",
    "                {'url':url_base_papers + '7/romanello/', 'fn' : 'isaw-papers-7-romanello.xhtml'},\n",
    "                {'url':url_base_papers + '7/roueche-lawrence-lawrence/', 'fn' : 'isaw-papers-7-roueche-lawrence-lawrence.xhtml'},\n",
    "                {'url':url_base_papers + '7/seifried/', 'fn' : 'isaw-papers-7-seifried.xhtml'},\n",
    "                {'url':url_base_papers + '7/simon-barker-desoto-isaksen/', 'fn' : 'isaw-papers-7-simon-barker-desoto-isaksen.xhtml'},\n",
    "                {'url':url_base_papers + '7/taylor/', 'fn' : 'isaw-papers-7-taylor.xhtml'},\n",
    "                {'url':url_base_papers + '7/tsonev/', 'fn' : 'isaw-papers-7-tsonev.xhtml'},\n",
    "                {'url':url_base_papers + '7/vankeer/', 'fn' : 'isaw-papers-7-vankeer.xhtml'},\n",
    "                {'url':url_base_papers + '8/', 'fn' : 'isaw-papers-8.xhtml'},\n",
    "                {'url':url_base_papers + '9/', 'fn' : 'isaw-papers-9.xhtml'},\n",
    "                {'url':url_base_papers + '10/', 'fn' : 'isaw-papers-10.xhtml'},\n",
    "                {'url':url_base_papers + '11/', 'fn' : 'isaw-papers-11.xhtml'},\n",
    "                {'url':url_base_books + 'oasis-city-awdl/chapter1.xhtml', 'fn':'oasis-city-ch1.xhtml'},\n",
    "                {'url':url_base_books + 'oasis-city-awdl/chapter2.xhtml', 'fn':'oasis-city-ch2.xhtml'},\n",
    "                {'url':url_base_books + 'oasis-city-awdl/chapter3.xhtml', 'fn':'oasis-city-ch3.xhtml'},\n",
    "                {'url':url_base_books + 'oasis-city-awdl/chapter4.xhtml', 'fn':'oasis-city-ch4.xhtml'},\n",
    "                {'url':url_base_books + 'oasis-city-awdl/chapter5.xhtml', 'fn':'oasis-city-ch5.xhtml'},\n",
    "                {'url':url_base_books + 'oasis-city-awdl/chapter6.xhtml', 'fn':'oasis-city-ch6.xhtml'},\n",
    "                {'url':url_base_books + 'oasis-city-awdl/chapter7.xhtml', 'fn':'oasis-city-ch7.xhtml'},\n",
    "                {'url':url_base_books + 'hatke2013-aksum-and-nubia-awdl/', 'fn':'hatke2013-aksum-and-nubia.xhtml'}]\n",
    "\n",
    "print(urls_to_load)"
   ]
  },
  {
   "cell_type": "markdown",
   "metadata": {},
   "source": [
    "## Build RDF Graph"
   ]
  },
  {
   "cell_type": "code",
   "execution_count": null,
   "metadata": {
    "collapsed": false
   },
   "outputs": [],
   "source": [
    "\n",
    "g=rdflib.Graph()\n",
    "for url_fn in urls_to_load:\n",
    "    g.load(url_fn['url'],format=\"rdfa\")\n",
    "\n",
    "len(g) # this is the total number of triples in the graph"
   ]
  },
  {
   "cell_type": "markdown",
   "metadata": {},
   "source": [
    "## List Titles"
   ]
  },
  {
   "cell_type": "code",
   "execution_count": null,
   "metadata": {
    "collapsed": false
   },
   "outputs": [],
   "source": [
    "result = g.query('''SELECT ?title ?s WHERE {\n",
    "    ?s dcterms:title ?title . \n",
    "    ?s dcterms:isPartOf* <http://isaw.nyu.edu/publications/isaw-papers> .  \n",
    "} ORDER BY ?s''', initNs = ns)\n",
    "\n",
    "df = pd.DataFrame(result.bindings)\n",
    "pd.set_option('display.max_rows', len(df))\n",
    "df"
   ]
  },
  {
   "cell_type": "markdown",
   "metadata": {},
   "source": [
    "## List Authors"
   ]
  },
  {
   "cell_type": "code",
   "execution_count": null,
   "metadata": {
    "collapsed": false
   },
   "outputs": [],
   "source": [
    "\n",
    "result = g.query('''SELECT ?name WHERE {\n",
    " \n",
    "    ?s dcterms:creator/foaf:name* ?name .\n",
    "    ?s dcterms:isPartOf <http://isaw.nyu.edu/publications/isaw-papers>\n",
    "\n",
    "  FILTER isLiteral(?name)\n",
    "} ORDER BY ?name''', initNs = ns)\n",
    "\n",
    "df = pd.DataFrame(result.bindings)\n",
    "pd.set_option('display.max_rows', len(df))\n",
    "df"
   ]
  },
  {
   "cell_type": "markdown",
   "metadata": {},
   "source": [
    "## List Referenced Resources"
   ]
  },
  {
   "cell_type": "markdown",
   "metadata": {},
   "source": [
    "Scroll down for Pleaiades URIs as they're sorted by 'https'. The results show that some of the RDFa markup needs work."
   ]
  },
  {
   "cell_type": "code",
   "execution_count": null,
   "metadata": {
    "collapsed": false,
    "scrolled": true
   },
   "outputs": [],
   "source": [
    "result = g.query('''SELECT DISTINCT ?isawuri ?title ?uri ?label WHERE {\n",
    "    ?isawuri dcterms:references ?b1ank .\n",
    "    OPTIONAL {?isawuri dcterms:title ?title .}\n",
    "    OPTIONAL {?isawpub dcterms:hasPart ?isawuri .\n",
    "              ?isawpub dcterms:title ?title  . }\n",
    "    ?b1ank rdfs:isDefinedBy ?uri .\n",
    "    OPTIONAL {?b1ank rdfs:label ?label .}\n",
    "    OPTIONAL {?b1ank dcterms:bibliographicCitation ?label .}\n",
    "} ORDER BY ?uri ?isawpub''', initNs = ns)\n",
    "\n",
    "df = pd.DataFrame(result.bindings)\n",
    "pd.set_option('display.max_rows', len(df))\n",
    "df"
   ]
  },
  {
   "cell_type": "code",
   "execution_count": null,
   "metadata": {
    "collapsed": false
   },
   "outputs": [],
   "source": [
    "s = ''\n",
    "\n",
    "for row in result:\n",
    "    s += '<div><a href=\"%s\">%s</a> referenced by <a href=\"%s\">%s</a></div>' % (row.uri, row.label,row.isawuri,row.title)\n",
    "\n",
    "h = HTML(s)\n",
    "h"
   ]
  },
  {
   "cell_type": "code",
   "execution_count": null,
   "metadata": {
    "collapsed": false
   },
   "outputs": [],
   "source": [
    "turtle = g.serialize(format=\"turtle\").decode(\"utf-8\")\n",
    "# the following is only necessary if loading from disk\n",
    "print(re.sub(r'<file://.*?docs/isaw-papers-([0-9]+?).xhtml',r'<http://dlib.nyu.edu/awdl/isaw/isaw-papers/\\1/',turtle))"
   ]
  }
 ],
 "metadata": {
  "kernelspec": {
   "display_name": "Python 3",
   "language": "python",
   "name": "python3"
  },
  "language_info": {
   "codemirror_mode": {
    "name": "ipython",
    "version": 3
   },
   "file_extension": ".py",
   "mimetype": "text/x-python",
   "name": "python",
   "nbconvert_exporter": "python",
   "pygments_lexer": "ipython3",
   "version": "3.5.2"
  }
 },
 "nbformat": 4,
 "nbformat_minor": 1
}
