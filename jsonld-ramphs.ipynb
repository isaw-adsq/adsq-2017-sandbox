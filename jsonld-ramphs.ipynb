{
 "cells": [
  {
   "cell_type": "code",
   "execution_count": null,
   "metadata": {
    "collapsed": true
   },
   "outputs": [],
   "source": [
    "import numpy as np\n",
    "import pandas as pd\n",
    "import rdflib\n",
    "\n",
    "import matplotlib.pyplot as plt\n",
    "plt.style.use('ggplot')\n",
    "%matplotlib inline\n",
    "\n",
    "from IPython.display import HTML\n",
    "\n",
    "pd.set_option('display.max_colwidth', -1)"
   ]
  },
  {
   "cell_type": "code",
   "execution_count": null,
   "metadata": {
    "collapsed": false
   },
   "outputs": [],
   "source": [
    "# load from github / ASK ME about \"github pages\"\n",
    "g=rdflib.Graph()\n",
    "g.load(\"http://sfsheath.github.com/roman-amphitheaters/roman-amphitheaters.geojson\", format=\"json-ld\")"
   ]
  },
  {
   "cell_type": "code",
   "execution_count": null,
   "metadata": {
    "collapsed": false
   },
   "outputs": [],
   "source": [
    "# find actual identifiers\n",
    "result = g.query(\"\"\"PREFIX geojson: <https://purl.org/geojson/vocab#> \n",
    "           PREFIX ramphsprops: <http://purl.org/roman-amphitheaters/properties#> \n",
    "           PREFIX dcterms: <http://purl.org/dc/terms/>\n",
    "           PREFIX rdfs: <http://www.w3.org/2000/01/rdf-schema#>\n",
    "           SELECT * WHERE {\n",
    "            ?about ?property ?value .\n",
    "            # FILTER (isIRI(?about))\n",
    "            }\"\"\")\n",
    "\n",
    "\n",
    "df = pd.DataFrame(result.bindings)\n",
    "pd.set_option('display.max_rows', len(df))\n",
    "df\n"
   ]
  },
  {
   "cell_type": "code",
   "execution_count": null,
   "metadata": {
    "collapsed": false
   },
   "outputs": [],
   "source": [
    "# geojson:properties\n",
    "# http://www.w3.org/TR/sparql11-query/#neg-notexists-minus \n",
    "result = g.query(\"\"\"PREFIX geojson: <https://purl.org/geojson/vocab#> \n",
    "           PREFIX ramphsprops: <http://purl.org/roman-amphitheaters/properties#> \n",
    "           PREFIX dcterms: <http://purl.org/dc/terms/>\n",
    "           PREFIX rdfs: <http://www.w3.org/2000/01/rdf-schema#>\n",
    "           SELECT DISTINCT ?label ?value WHERE {\n",
    "            ?about geojson:properties/ramphsprops:capacity/ramphsprops:quantity ?value ;\n",
    "                    geojson:properties/dcterms:title ?label.\n",
    "            \n",
    "            # OPTIONAL {  ?about geojson:properties/ramphsprops:province ?value_geo }\n",
    "            # OPTIONAL {  ?about geojson:properties/ramphsprops:region ?value_geo }\n",
    "            MINUS { ?about geojson:properties/ramphsprops:province ?x }\n",
    "            \n",
    "                }\"\"\")\n",
    "\n",
    "\n",
    "df = pd.DataFrame(result.bindings)\n",
    "pd.set_option('display.max_rows', len(df))\n",
    "df\n"
   ]
  },
  {
   "cell_type": "code",
   "execution_count": null,
   "metadata": {
    "collapsed": false
   },
   "outputs": [],
   "source": [
    "# chronogroups\n",
    "result = g.query(\"\"\"PREFIX geojson: <https://purl.org/geojson/vocab#> \n",
    "           PREFIX ramphsprops: <http://purl.org/roman-amphitheaters/properties#> \n",
    "           PREFIX dcterms: <http://purl.org/dc/terms/>\n",
    "           PREFIX rdfs: <http://www.w3.org/2000/01/rdf-schema#>\n",
    "           SELECT * WHERE {\n",
    "            <http://purl.org/roman-amphitheaters/resource/augustan> ?property ?value\n",
    "            }\n",
    "            \n",
    "                \"\"\")\n",
    "\n",
    "\n",
    "df = pd.DataFrame(result.bindings)\n",
    "pd.set_option('display.max_rows', len(df))\n",
    "df"
   ]
  }
 ],
 "metadata": {
  "kernelspec": {
   "display_name": "Python 3",
   "language": "python",
   "name": "python3"
  },
  "language_info": {
   "codemirror_mode": {
    "name": "ipython",
    "version": 3
   },
   "file_extension": ".py",
   "mimetype": "text/x-python",
   "name": "python",
   "nbconvert_exporter": "python",
   "pygments_lexer": "ipython3",
   "version": "3.5.2"
  }
 },
 "nbformat": 4,
 "nbformat_minor": 1
}
