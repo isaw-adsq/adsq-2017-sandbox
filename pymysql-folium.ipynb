{
 "cells": [
  {
   "cell_type": "markdown",
   "metadata": {},
   "source": [
    "It might be useful to run 'pip3 install &lt;library&gt; --upgrade\" to make sure you have latest versions of pandas, matplotlib, folium, etc."
   ]
  },
  {
   "cell_type": "code",
   "execution_count": null,
   "metadata": {
    "collapsed": false
   },
   "outputs": [],
   "source": [
    "# load libraries\n",
    "\n",
    "import folium\n",
    "from folium.plugins import MarkerCluster\n",
    "import pandas as pd    # for working with \"rows/columns\" oriented data\n",
    "import pymysql.cursors # \n",
    "\n",
    "# not using these right now, but I might...\n",
    "import io  # useful routines for input/output\n",
    "\n",
    "import matplotlib.pyplot as plt\n",
    "plt.style.use('ggplot')\n",
    "%matplotlib inline\n",
    "         \n",
    "import numpy as np\n",
    "\n"
   ]
  },
  {
   "cell_type": "code",
   "execution_count": null,
   "metadata": {
    "collapsed": false
   },
   "outputs": [],
   "source": [
    "# folium.Map \n",
    "\n",
    "# use location to center the map. A bigger zoom # zooms in. try it.\n",
    "\n",
    "med_map = folium.Map(location=[41.9028, 12.4964],zoom_start=4,tiles='cartodbpositron')\n",
    "med_map"
   ]
  },
  {
   "cell_type": "code",
   "execution_count": null,
   "metadata": {
    "collapsed": false
   },
   "outputs": [],
   "source": [
    "# https://leaflet-extras.github.io/leaflet-providers/preview/\n",
    "# go the the above URL to see a variety of basemaps.\n",
    "# when you try one, you should see the URL to use for tileset.\n",
    "# you sometimes need to adjust that. particularly change '{ext} to just '.png'.\n",
    "\n",
    "tileset = r'http://stamen-tiles-{s}.a.ssl.fastly.net/terrain-background/{z}/{x}/{y}.png'\n",
    "tiled = folium.Map(location=[41.9028, 12.4964], zoom_start=4,\n",
    "                 tiles=tileset, attr='Map tiles by <a href=\"http://stamen.com\">Stamen Design</a>, <a href=\"http://creativecommons.org/licenses/by/3.0\">CC BY 3.0</a> &mdash; Map data &copy; <a href=\"http://www.openstreetmap.org/copyright\">OpenStreetMap</a>')\n",
    "tiled"
   ]
  },
  {
   "cell_type": "code",
   "execution_count": null,
   "metadata": {
    "collapsed": false
   },
   "outputs": [],
   "source": [
    "# i will email everyone this file. put it in same folder\n",
    "# Connect to the database\n",
    "db_params = open(\"sebastia_adsqro_params.txt\").read().split()"
   ]
  },
  {
   "cell_type": "code",
   "execution_count": null,
   "metadata": {
    "collapsed": false
   },
   "outputs": [],
   "source": [
    "# Connect to the database\n",
    "\n",
    "connection = pymysql.connect(host=db_params[0],\n",
    "                             user=db_params[1],\n",
    "                             password=db_params[2],\n",
    "                             db=db_params[3],\n",
    "                             charset='utf8mb4',\n",
    "                             cursorclass=pymysql.cursors.DictCursor)"
   ]
  },
  {
   "cell_type": "code",
   "execution_count": null,
   "metadata": {
    "collapsed": false
   },
   "outputs": [],
   "source": [
    "# Noting that some are having problems with pd.read_sql, I'm stick with pymysql.\n",
    "# But I move that quickly into a pandas datasframe.\n",
    "# Try that with your more complex queries. Does that help?\n",
    "\n",
    "sql = \"select * from ramphs\"\n",
    "\n",
    "\n",
    "# this is a pretty efficient code block for going from cursor to dataframe\n",
    "with connection.cursor() as cursor:\n",
    "\n",
    "    cursor.execute(sql)\n",
    "    names = [ x[0] for x in cursor.description]\n",
    "    result = cursor.fetchall()\n",
    "\n",
    "df = pd.DataFrame(result, columns = names)\n",
    "\n",
    "# df # uncommanet at start of line if you want to see contents"
   ]
  },
  {
   "cell_type": "code",
   "execution_count": null,
   "metadata": {
    "collapsed": false
   },
   "outputs": [],
   "source": [
    "tileset = r'http://stamen-tiles-{s}.a.ssl.fastly.net/terrain-background/{z}/{x}/{y}.png'\n",
    "ramphs = folium.Map(location=[41.9028, 12.4964], zoom_start=4,\n",
    "                 tiles=tileset, attr='Map tiles by <a href=\"http://stamen.com\">Stamen Design</a>, <a href=\"http://creativecommons.org/licenses/by/3.0\">CC BY 3.0</a> &mdash; Map data &copy; <a href=\"http://www.openstreetmap.org/copyright\">OpenStreetMap</a>')\n",
    "\n",
    "# iterrows() is useful here. That moves through dataframe row by row\n",
    "# row is a dictionary so we pass its values to each call to folium.Marker()\n",
    "\n",
    "\n",
    "for index,row in df[['label','latitude','longitude']].iterrows():\n",
    "    # built a marker and then add it to map with add_to()\n",
    "    folium.Marker([row['latitude'],row['longitude']], popup=row['label']).add_to(ramphs)\n",
    "\n",
    "\n",
    "# might take a little while to display. the loop above is slow.\n",
    "ramphs"
   ]
  },
  {
   "cell_type": "code",
   "execution_count": null,
   "metadata": {
    "collapsed": false
   },
   "outputs": [],
   "source": [
    "# here I'm calling folium.CircleMarker insead of folium.Marker\n",
    "# circles don't adjust when you zoom in.\n",
    "# experiment with radius size.\n",
    "\n",
    "tileset = r'http://{s}.tiles.wmflabs.org/bw-mapnik/{z}/{x}/{y}.png'\n",
    "\n",
    "ramphs = folium.Map(location=[41.9028, 12.4964], zoom_start=4,\n",
    "                 tiles=tileset, attr='&copy; <a href=\"http://www.openstreetmap.org/copyright\">OpenStreetMap</a>')\n",
    "\n",
    "for index,row in df[['label','latitude','longitude']].iterrows():\n",
    "    \n",
    "    folium.CircleMarker([row['latitude'],row['longitude']],\n",
    "                        radius = 1000,\n",
    "                        popup=row['label'],\n",
    "                        color = 'red').add_to(ramphs)\n",
    "\n",
    "ramphs"
   ]
  },
  {
   "cell_type": "code",
   "execution_count": null,
   "metadata": {
    "collapsed": false
   },
   "outputs": [],
   "source": [
    "# goal is to color amphitheater by capacity. with black for null values.\n",
    "\n",
    "cuts  = pd.cut(df['capacity'],bins = 5, labels = False, right = True)\n",
    "# after this, lowest value will be 0, highest 4. For a total of 5 bins.\n",
    "\n",
    "# shift values so they are 1 to 5.\n",
    "cuts += 1 # this syntax updates the dataframe in place, which can be useful.\n",
    "\n",
    "# fill nulls with 0.\n",
    "cuts.fillna(0,inplace = True) # again, I'm doing this in place\n",
    "\n",
    "\n",
    "# pd.concat with axis = 1 combines dataframes side-by-side\n",
    "ramphs_cuts = pd.concat([df,pd.DataFrame({\"cut\":cuts})], axis = 1)\n",
    "\n",
    "# ramphs_cuts # uncomment to see that cuts now at right side of resulting dataframe.\n"
   ]
  },
  {
   "cell_type": "code",
   "execution_count": null,
   "metadata": {
    "collapsed": false
   },
   "outputs": [],
   "source": [
    "# a color ramp from green to red (though with the first component as black)\n",
    "colors = [\"#000000\", \"#00ff00\", \"#50a000\", \"#bfbf00\", \"#df7000\", \"#ff0000\"]\n",
    "\n",
    "# trying a different basemap\n",
    "tileset = r'http://server.arcgisonline.com/ArcGIS/rest/services/World_Terrain_Base/MapServer/tile/{z}/{y}/{x}'\n",
    "\n",
    "ramphs_colors = folium.Map(location=[41.9028, 12.4964], zoom_start=4,\n",
    "                 tiles=tileset, attr='Tiles &copy; Esri &mdash; Source: USGS, Esri, TANA, DeLorme, and NPS')\n",
    "\n",
    "# key construct is \"colors[int(row['cut'])]\" . Use the value of cut in each row to select\n",
    "# a value from the colors python list.\n",
    "# and see that I'm selecting three columns. That's unnecessary but keeps me focused.\n",
    "for index,row in ramphs_cuts[['label','latitude','longitude', 'cut']].iterrows():\n",
    "    \n",
    "    folium.CircleMarker([row['latitude'],row['longitude']],\n",
    "                        radius = 500,\n",
    "                        popup=(row['label'] + ' ' + str(row['cut'])),\n",
    "                        fill_color = colors[int(row['cut'])],\n",
    "                        color = colors[int(row['cut'])]).add_to(ramphs_colors)\n",
    "\n",
    "ramphs_colors"
   ]
  },
  {
   "cell_type": "code",
   "execution_count": null,
   "metadata": {
    "collapsed": false
   },
   "outputs": [],
   "source": [
    "# clusters can be useful.\n",
    "\n",
    "tileset = 'http://server.arcgisonline.com/ArcGIS/rest/services/World_Shaded_Relief/MapServer/tile/{z}/{y}/{x}'\n",
    "      \n",
    "clustered = folium.Map(location=[41.9028, 12.4964], zoom_start=4,\n",
    "                 tiles=tileset, attr='&copy; <a href=\"http://www.openstreetmap.org/copyright\">OpenStreetMap</a>')\n",
    "\n",
    "# create two empty lists\n",
    "popups, locations = [], []\n",
    "\n",
    "# use iterrows() to loop through dataframe and build popups and locations\n",
    "for index,row in df[['label','latitude','longitude']].iterrows():\n",
    "    locations.append([row['latitude'],row['longitude']])\n",
    "    popups.append(row['label'])\n",
    "\n",
    "\n",
    "# pass locations and popups to MarkerCluster.\n",
    "clustered.add_children(MarkerCluster(locations=locations, popups=popups))\n",
    "\n",
    "\n",
    "\n",
    "clustered"
   ]
  },
  {
   "cell_type": "code",
   "execution_count": null,
   "metadata": {
    "collapsed": true
   },
   "outputs": [],
   "source": [
    "# connection.commit()\n",
    "# connection.close()"
   ]
  }
 ],
 "metadata": {
  "kernelspec": {
   "display_name": "Python 3",
   "language": "python",
   "name": "python3"
  },
  "language_info": {
   "codemirror_mode": {
    "name": "ipython",
    "version": 3
   },
   "file_extension": ".py",
   "mimetype": "text/x-python",
   "name": "python",
   "nbconvert_exporter": "python",
   "pygments_lexer": "ipython3",
   "version": "3.5.2"
  }
 },
 "nbformat": 4,
 "nbformat_minor": 1
}
