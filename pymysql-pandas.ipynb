{
 "cells": [
  {
   "cell_type": "markdown",
   "metadata": {},
   "source": [
    "It might be useful to run 'pip3 install &lt;library&gt; --upgrade\" to make sure you have latest versions of pandas, matplotlib, etc."
   ]
  },
  {
   "cell_type": "code",
   "execution_count": null,
   "metadata": {
    "collapsed": false
   },
   "outputs": [],
   "source": [
    "import gzip            # can uncompress gzipped files, useful for accessing the pleiades data\n",
    "import io              # useful routines for input/output\n",
    "import numpy as np\n",
    "import pandas as pd    # for working with \"rows/columns\" oriented data\n",
    "import pymysql.cursors # \n",
    "import sqlite3         # an SQL database\n",
    "import urllib.request  # for loading documents using http\n",
    "\n",
    "import matplotlib.pyplot as plt\n",
    "plt.style.use('ggplot')\n",
    "\n",
    "%matplotlib inline"
   ]
  },
  {
   "cell_type": "code",
   "execution_count": null,
   "metadata": {
    "collapsed": false
   },
   "outputs": [],
   "source": [
    "# Connect to the database\n",
    "# I will email you the file sebastia_adsq_params.txt . It's just a four line text file.\n",
    "# Put that in directory and the following line will read it.\n",
    "db_params = open(\"sebastia_adsqro_params.txt\").read().split()"
   ]
  },
  {
   "cell_type": "code",
   "execution_count": null,
   "metadata": {
    "collapsed": false
   },
   "outputs": [],
   "source": [
    "# Connect to the database\n",
    "\n",
    "connection = pymysql.connect(host=db_params[0],\n",
    "                             user=db_params[1],\n",
    "                             password=db_params[2],\n",
    "                             db=db_params[3],\n",
    "                             charset='utf8mb4',\n",
    "                             cursorclass=pymysql.cursors.DictCursor)"
   ]
  },
  {
   "cell_type": "code",
   "execution_count": null,
   "metadata": {
    "collapsed": false
   },
   "outputs": [],
   "source": [
    "sql = \"select * from ramphs\"\n",
    "\n",
    "with connection.cursor() as cursor:\n",
    "\n",
    "    cursor.execute(sql)\n",
    "    names = [ x[0] for x in cursor.description]\n",
    "    result = cursor.fetchall()\n",
    "\n",
    "df = pd.DataFrame(result, columns = names)"
   ]
  },
  {
   "cell_type": "code",
   "execution_count": null,
   "metadata": {
    "collapsed": false
   },
   "outputs": [],
   "source": [
    "list(df) # this shows column names."
   ]
  },
  {
   "cell_type": "code",
   "execution_count": null,
   "metadata": {
    "collapsed": false
   },
   "outputs": [],
   "source": [
    "df[['id','modcountry','capacity']] # show just a few columns"
   ]
  },
  {
   "cell_type": "code",
   "execution_count": null,
   "metadata": {
    "collapsed": false
   },
   "outputs": [],
   "source": [
    "df.hist() # make a histogram of all numeric columns."
   ]
  },
  {
   "cell_type": "code",
   "execution_count": null,
   "metadata": {
    "collapsed": false,
    "scrolled": true
   },
   "outputs": [],
   "source": [
    "df['capacity'].hist()"
   ]
  },
  {
   "cell_type": "code",
   "execution_count": null,
   "metadata": {
    "collapsed": false
   },
   "outputs": [],
   "source": [
    "# groupby is like its SQL equivalent. Only trick is that 'modcountry' is no\n",
    "# longer a column in the dataframe.\n",
    "# try df.groupby('modcountry').count() to see what I mean.\n",
    "# so... I sort by the counts in the id column,\n",
    "# then create a series of just those number\n",
    "# then plot that using a barchart.\n",
    "df.groupby('modcountry').count().sort_values(by = 'id')['id'].plot.bar()\n",
    "\n",
    "# the big issue that I would have discussed in class is the difference between\n",
    "# a histogram that display continuous numeric data and a bar chart that displays\n",
    "# quantities associated with categories."
   ]
  },
  {
   "cell_type": "code",
   "execution_count": null,
   "metadata": {
    "collapsed": false
   },
   "outputs": [],
   "source": [
    "# the key here is reset_index .\n",
    "# show outout of \"df.sort_values('capacity')\" . NOte the value in the left most column, the index.\n",
    "df_sorted = df.sort_values('capacity').reset_index(drop=True).dropna(subset=['capacity'])\n"
   ]
  },
  {
   "cell_type": "code",
   "execution_count": null,
   "metadata": {
    "collapsed": false
   },
   "outputs": [],
   "source": [
    "# if index re-ordered and null values dropped, I can make an \"index plot\". That's a visualization\n",
    "# of the ordered values of capacity. Showing that colosseum in rome is an outlier\n",
    "df_sorted.plot(x = df_sorted.index, y = 'capacity' )"
   ]
  },
  {
   "cell_type": "code",
   "execution_count": null,
   "metadata": {
    "collapsed": false
   },
   "outputs": [],
   "source": [
    "# a simple scatter plot with na removed.\n",
    "\n",
    "df.dropna(subset=['extmajor','extminor']).plot.scatter(x = 'extmajor', y = 'extminor')"
   ]
  },
  {
   "cell_type": "code",
   "execution_count": null,
   "metadata": {
    "collapsed": true
   },
   "outputs": [],
   "source": [
    "# connection.commit()\n",
    "# connection.close()"
   ]
  }
 ],
 "metadata": {
  "kernelspec": {
   "display_name": "Python 3",
   "language": "python",
   "name": "python3"
  },
  "language_info": {
   "codemirror_mode": {
    "name": "ipython",
    "version": 3
   },
   "file_extension": ".py",
   "mimetype": "text/x-python",
   "name": "python",
   "nbconvert_exporter": "python",
   "pygments_lexer": "ipython3",
   "version": "3.5.2"
  }
 },
 "nbformat": 4,
 "nbformat_minor": 1
}
