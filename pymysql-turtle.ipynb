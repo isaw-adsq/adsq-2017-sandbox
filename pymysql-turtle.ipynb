{
 "cells": [
  {
   "cell_type": "markdown",
   "metadata": {},
   "source": [
    "It might be useful to run 'pip3 install &lt;library&gt; --upgrade\" to make sure you have latest versions of pandas, matplotlib, etc."
   ]
  },
  {
   "cell_type": "code",
   "execution_count": 1,
   "metadata": {
    "collapsed": false
   },
   "outputs": [],
   "source": [
    "import gzip            \n",
    "import io              \n",
    "import numpy as np\n",
    "import pandas as pd    \n",
    "import pymysql.cursors \n",
    "import rdflib\n",
    "from rdflib import Namespace\n",
    "import urllib.request  \n",
    "\n",
    "import matplotlib.pyplot as plt\n",
    "plt.style.use('ggplot')\n",
    "\n",
    "%matplotlib inline"
   ]
  },
  {
   "cell_type": "code",
   "execution_count": 2,
   "metadata": {
    "collapsed": false
   },
   "outputs": [],
   "source": [
    "# Connect to the database\n",
    "# I will email you the file sebastia_adsq_params.txt . It's just a four line text file.\n",
    "# Put that in directory and the following line will read it.\n",
    "db_params = open(\"sebastia_adsqro_params.txt\").read().split()"
   ]
  },
  {
   "cell_type": "code",
   "execution_count": 3,
   "metadata": {
    "collapsed": false
   },
   "outputs": [],
   "source": [
    "# Connect to the database\n",
    "\n",
    "connection = pymysql.connect(host=db_params[0],\n",
    "                             user=db_params[1],\n",
    "                             password=db_params[2],\n",
    "                             db=db_params[3],\n",
    "                             charset='utf8mb4',\n",
    "                             cursorclass=pymysql.cursors.DictCursor)"
   ]
  },
  {
   "cell_type": "markdown",
   "metadata": {},
   "source": [
    "## Turn 'ramphs' into Triples"
   ]
  },
  {
   "cell_type": "code",
   "execution_count": 4,
   "metadata": {
    "collapsed": false
   },
   "outputs": [
    {
     "data": {
      "text/html": [
       "<div>\n",
       "<table border=\"1\" class=\"dataframe\">\n",
       "  <thead>\n",
       "    <tr style=\"text-align: right;\">\n",
       "      <th></th>\n",
       "      <th>id</th>\n",
       "      <th>title</th>\n",
       "      <th>label</th>\n",
       "      <th>pleiades</th>\n",
       "      <th>welch</th>\n",
       "      <th>golvin</th>\n",
       "      <th>type</th>\n",
       "      <th>capacity</th>\n",
       "      <th>modcountry</th>\n",
       "      <th>province</th>\n",
       "      <th>...</th>\n",
       "      <th>certainty</th>\n",
       "      <th>youtube</th>\n",
       "      <th>extmajor</th>\n",
       "      <th>extminor</th>\n",
       "      <th>arenamajor</th>\n",
       "      <th>arenaminor</th>\n",
       "      <th>latitude</th>\n",
       "      <th>longitude</th>\n",
       "      <th>elevation</th>\n",
       "      <th>pleiades_id</th>\n",
       "    </tr>\n",
       "  </thead>\n",
       "  <tbody>\n",
       "    <tr>\n",
       "      <th>0</th>\n",
       "      <td>duraEuroposAmphitheater</td>\n",
       "      <td>Amphitheater at Dura Europos</td>\n",
       "      <td>Dura</td>\n",
       "      <td>http://pleiades.stoa.org/places/893989</td>\n",
       "      <td></td>\n",
       "      <td>129</td>\n",
       "      <td>amphitheater</td>\n",
       "      <td>1000.0</td>\n",
       "      <td>Syria</td>\n",
       "      <td>syria</td>\n",
       "      <td>...</td>\n",
       "      <td></td>\n",
       "      <td></td>\n",
       "      <td>50.0</td>\n",
       "      <td>44.0</td>\n",
       "      <td>31.0</td>\n",
       "      <td>25.0</td>\n",
       "      <td>34.74985500000</td>\n",
       "      <td>40.7289260000</td>\n",
       "      <td>223</td>\n",
       "      <td>893989</td>\n",
       "    </tr>\n",
       "    <tr>\n",
       "      <th>1</th>\n",
       "      <td>arlesAmphitheater</td>\n",
       "      <td>Amphitheater at Arles</td>\n",
       "      <td>Arles</td>\n",
       "      <td>http://pleiades.stoa.org/places/148217</td>\n",
       "      <td></td>\n",
       "      <td>154</td>\n",
       "      <td>amphitheater</td>\n",
       "      <td>20000.0</td>\n",
       "      <td>France</td>\n",
       "      <td>narbonensis</td>\n",
       "      <td>...</td>\n",
       "      <td></td>\n",
       "      <td>https://www.youtube.com/watch?v=oCz-76hb1LU</td>\n",
       "      <td>136.0</td>\n",
       "      <td>107.0</td>\n",
       "      <td>47.0</td>\n",
       "      <td>32.0</td>\n",
       "      <td>43.67777800000</td>\n",
       "      <td>4.6311110000</td>\n",
       "      <td>21</td>\n",
       "      <td>148217</td>\n",
       "    </tr>\n",
       "    <tr>\n",
       "      <th>2</th>\n",
       "      <td>lyonAmphitheater</td>\n",
       "      <td>Amphitheater at Lyon</td>\n",
       "      <td>Lyon</td>\n",
       "      <td>http://pleiades.stoa.org/places/167717</td>\n",
       "      <td></td>\n",
       "      <td></td>\n",
       "      <td>amphitheater</td>\n",
       "      <td>20000.0</td>\n",
       "      <td>France</td>\n",
       "      <td>lugdunensis</td>\n",
       "      <td>...</td>\n",
       "      <td></td>\n",
       "      <td></td>\n",
       "      <td>105.0</td>\n",
       "      <td>NaN</td>\n",
       "      <td>67.6</td>\n",
       "      <td>42.0</td>\n",
       "      <td>45.77055600000</td>\n",
       "      <td>4.8305560000</td>\n",
       "      <td>206</td>\n",
       "      <td>167717</td>\n",
       "    </tr>\n",
       "    <tr>\n",
       "      <th>3</th>\n",
       "      <td>ludusMagnusArena</td>\n",
       "      <td>Ludus Magnus Arena</td>\n",
       "      <td>Ludus Magnus</td>\n",
       "      <td>http://pleiades.stoa.org/places/423025</td>\n",
       "      <td></td>\n",
       "      <td></td>\n",
       "      <td>practice-arena</td>\n",
       "      <td>NaN</td>\n",
       "      <td>Italy</td>\n",
       "      <td></td>\n",
       "      <td>...</td>\n",
       "      <td></td>\n",
       "      <td></td>\n",
       "      <td>NaN</td>\n",
       "      <td>NaN</td>\n",
       "      <td>NaN</td>\n",
       "      <td>NaN</td>\n",
       "      <td>41.88995000000</td>\n",
       "      <td>12.4949130000</td>\n",
       "      <td>22</td>\n",
       "      <td>423025</td>\n",
       "    </tr>\n",
       "    <tr>\n",
       "      <th>4</th>\n",
       "      <td>romeFlavianAmphitheater</td>\n",
       "      <td>Flavian Amphitheater at Rome</td>\n",
       "      <td>Colosseum</td>\n",
       "      <td>http://pleiades.stoa.org/places/423025</td>\n",
       "      <td></td>\n",
       "      <td>152</td>\n",
       "      <td>amphitheater</td>\n",
       "      <td>50000.0</td>\n",
       "      <td>Italy</td>\n",
       "      <td></td>\n",
       "      <td>...</td>\n",
       "      <td></td>\n",
       "      <td>https://www.youtube.com/watch?v=kxwenPo1grc</td>\n",
       "      <td>189.0</td>\n",
       "      <td>156.0</td>\n",
       "      <td>83.0</td>\n",
       "      <td>48.0</td>\n",
       "      <td>41.89016900000</td>\n",
       "      <td>12.4922690000</td>\n",
       "      <td>22</td>\n",
       "      <td>423025</td>\n",
       "    </tr>\n",
       "  </tbody>\n",
       "</table>\n",
       "<p>5 rows × 22 columns</p>\n",
       "</div>"
      ],
      "text/plain": [
       "                        id                         title         label  \\\n",
       "0  duraEuroposAmphitheater  Amphitheater at Dura Europos          Dura   \n",
       "1        arlesAmphitheater         Amphitheater at Arles         Arles   \n",
       "2         lyonAmphitheater          Amphitheater at Lyon          Lyon   \n",
       "3         ludusMagnusArena            Ludus Magnus Arena  Ludus Magnus   \n",
       "4  romeFlavianAmphitheater  Flavian Amphitheater at Rome     Colosseum   \n",
       "\n",
       "                                 pleiades welch golvin            type  \\\n",
       "0  http://pleiades.stoa.org/places/893989          129    amphitheater   \n",
       "1  http://pleiades.stoa.org/places/148217          154    amphitheater   \n",
       "2  http://pleiades.stoa.org/places/167717                 amphitheater   \n",
       "3  http://pleiades.stoa.org/places/423025               practice-arena   \n",
       "4  http://pleiades.stoa.org/places/423025          152    amphitheater   \n",
       "\n",
       "   capacity modcountry     province     ...     certainty  \\\n",
       "0    1000.0      Syria        syria     ...                 \n",
       "1   20000.0     France  narbonensis     ...                 \n",
       "2   20000.0     France  lugdunensis     ...                 \n",
       "3       NaN      Italy                  ...                 \n",
       "4   50000.0      Italy                  ...                 \n",
       "\n",
       "                                       youtube extmajor extminor  arenamajor  \\\n",
       "0                                                  50.0     44.0        31.0   \n",
       "1  https://www.youtube.com/watch?v=oCz-76hb1LU    136.0    107.0        47.0   \n",
       "2                                                 105.0      NaN        67.6   \n",
       "3                                                   NaN      NaN         NaN   \n",
       "4  https://www.youtube.com/watch?v=kxwenPo1grc    189.0    156.0        83.0   \n",
       "\n",
       "   arenaminor        latitude      longitude elevation pleiades_id  \n",
       "0        25.0  34.74985500000  40.7289260000       223      893989  \n",
       "1        32.0  43.67777800000   4.6311110000        21      148217  \n",
       "2        42.0  45.77055600000   4.8305560000       206      167717  \n",
       "3         NaN  41.88995000000  12.4949130000        22      423025  \n",
       "4        48.0  41.89016900000  12.4922690000        22      423025  \n",
       "\n",
       "[5 rows x 22 columns]"
      ]
     },
     "execution_count": 4,
     "metadata": {},
     "output_type": "execute_result"
    }
   ],
   "source": [
    "sql = \"select * from ramphs\"\n",
    "\n",
    "with connection.cursor() as cursor:\n",
    "\n",
    "    cursor.execute(sql)\n",
    "    names = [ x[0] for x in cursor.description]\n",
    "    result = cursor.fetchall()\n",
    "\n",
    "df = pd.DataFrame(result, columns = names)\n",
    "df.head()"
   ]
  },
  {
   "cell_type": "code",
   "execution_count": 5,
   "metadata": {
    "collapsed": false
   },
   "outputs": [],
   "source": [
    "pseudo_triples = pd.melt(df,id_vars='id')\n",
    "pseudo_triples.replace('', np.nan, inplace=True)\n",
    "pseudo_triples.dropna(inplace=True)\n",
    "# pseudo_triples.head()"
   ]
  },
  {
   "cell_type": "code",
   "execution_count": 6,
   "metadata": {
    "collapsed": true
   },
   "outputs": [],
   "source": [
    "g = rdflib.Graph()\n",
    "RDF = Namespace(\"http://www.w3.org/1999/02/22-rdf-syntax-ns#\")\n",
    "EXclass = Namespace(\"http://example.org/class/\")\n",
    "EXid = Namespace(\"http://example.org/id/\")\n",
    "EXproperty = Namespace(\"http://example.org/property/\")"
   ]
  },
  {
   "cell_type": "code",
   "execution_count": 7,
   "metadata": {
    "collapsed": false
   },
   "outputs": [],
   "source": [
    "for t in pseudo_triples.iterrows():\n",
    "    s = rdflib.URIRef('http://example.org/id/%s' % t[1]['id'])\n",
    "    p = rdflib.URIRef('http://example.org/property/%s' % t[1]['variable'])\n",
    "\n",
    "    \n",
    "    g.add((s,rdflib.URIRef(RDF.type),EXclass.amphitheater))\n",
    "    if t[1]['variable'] in ['arenamajor','arenaminor','capacity','elevation','extmajor','extminor','longitude','latitude']:\n",
    "        o = rdflib.Literal(float(t[1]['value']))\n",
    "        g.add((s,p,o))\n",
    "    elif t[1]['variable'] in ['pleiades']:\n",
    "        o = rdflib.URIRef(t[1]['value'])\n",
    "        g.add((s,p,o))\n",
    "    else:\n",
    "        o = rdflib.Literal(str(t[1]['value']))\n",
    "        g.add((s,p,o))"
   ]
  },
  {
   "cell_type": "code",
   "execution_count": 8,
   "metadata": {
    "collapsed": false
   },
   "outputs": [],
   "source": [
    "result = g.query(\n",
    "        \"\"\"SELECT * WHERE {\n",
    "            ?s <http://example.org/property/capacity> ?o .\n",
    "                } \"\"\")\n",
    "# pd.DataFrame(result.bindings)"
   ]
  },
  {
   "cell_type": "markdown",
   "metadata": {},
   "source": [
    "## Turn 'chronogroups' into Triples"
   ]
  },
  {
   "cell_type": "code",
   "execution_count": 9,
   "metadata": {
    "collapsed": false
   },
   "outputs": [],
   "source": [
    "sql = \"select * from ramphs_chronogrps\"\n",
    "\n",
    "with connection.cursor() as cursor:\n",
    "\n",
    "    cursor.execute(sql)\n",
    "    names = [ x[0] for x in cursor.description]\n",
    "    result = cursor.fetchall()\n",
    "\n",
    "df = pd.DataFrame(result, columns = names)\n",
    "# df.head()"
   ]
  },
  {
   "cell_type": "code",
   "execution_count": 10,
   "metadata": {
    "collapsed": false
   },
   "outputs": [],
   "source": [
    "df.rename(index=str, columns={\"id\": \"label\"}, inplace = True)\n",
    "newcol = df['label'].replace(r' ', '', regex = True)\n",
    "df = df.assign(idd = newcol)\n",
    "df.rename(index=str, columns={\"idd\": \"id\"}, inplace = True)\n",
    "# df.head()"
   ]
  },
  {
   "cell_type": "code",
   "execution_count": 11,
   "metadata": {
    "collapsed": false
   },
   "outputs": [],
   "source": [
    "pseudo_triples = pd.melt(df,id_vars='id').sort_values('id')\n",
    "pseudo_triples.replace('', np.nan, inplace=True)\n",
    "pseudo_triples.dropna(inplace=True)\n",
    "\n",
    "for t in pseudo_triples.iterrows():\n",
    "    s = rdflib.URIRef('http://example.org/id/%s' % t[1]['id'])\n",
    "    p = rdflib.URIRef('http://example.org/property/%s' % t[1]['variable'])\n",
    "    \n",
    "    g.add((s,RDF.type,EXclass.chronogrp))\n",
    "    if t[1]['variable'] in ['start','end']:\n",
    "        o = rdflib.Literal(float(t[1]['value']))\n",
    "        g.add((s,p,o))\n",
    "    elif t[1]['variable'] in ['']:\n",
    "        o = rdflib.URIRef(t[1]['value'])\n",
    "        g.add((s,p,o))\n",
    "    else:\n",
    "        o = rdflib.Literal(str(t[1]['value']))\n",
    "        g.add((s,p,o))"
   ]
  },
  {
   "cell_type": "code",
   "execution_count": 12,
   "metadata": {
    "collapsed": false
   },
   "outputs": [],
   "source": [
    "result = g.query(\n",
    "        \"\"\"SELECT ?p ?o WHERE {\n",
    "            <http://example.org/id/FirstCentury> ?p ?o .\n",
    "                } LIMIT 10\"\"\")\n",
    "# pd.DataFrame(result.bindings)"
   ]
  },
  {
   "cell_type": "code",
   "execution_count": 13,
   "metadata": {
    "collapsed": false
   },
   "outputs": [
    {
     "data": {
      "text/html": [
       "<div>\n",
       "<table border=\"1\" class=\"dataframe\">\n",
       "  <thead>\n",
       "    <tr style=\"text-align: right;\">\n",
       "      <th></th>\n",
       "      <th>chronogrp</th>\n",
       "      <th>end</th>\n",
       "      <th>ramph</th>\n",
       "      <th>rchrono</th>\n",
       "    </tr>\n",
       "  </thead>\n",
       "  <tbody>\n",
       "    <tr>\n",
       "      <th>0</th>\n",
       "      <td>http://example.org/id/Caesarean</td>\n",
       "      <td>-44.0</td>\n",
       "      <td>http://example.org/id/espejoAmphitheater</td>\n",
       "      <td>Caesarean</td>\n",
       "    </tr>\n",
       "    <tr>\n",
       "      <th>1</th>\n",
       "      <td>http://example.org/id/Caesarean</td>\n",
       "      <td>-44.0</td>\n",
       "      <td>http://example.org/id/carmonaAmphitheater</td>\n",
       "      <td>Caesarean</td>\n",
       "    </tr>\n",
       "    <tr>\n",
       "      <th>2</th>\n",
       "      <td>http://example.org/id/Caesarean</td>\n",
       "      <td>-44.0</td>\n",
       "      <td>http://example.org/id/corinthAmphitheater</td>\n",
       "      <td>Caesarean</td>\n",
       "    </tr>\n",
       "    <tr>\n",
       "      <th>3</th>\n",
       "      <td>http://example.org/id/Republican</td>\n",
       "      <td>-31.0</td>\n",
       "      <td>http://example.org/id/pozzuoliEarlyAmphitheater</td>\n",
       "      <td>Republican</td>\n",
       "    </tr>\n",
       "    <tr>\n",
       "      <th>4</th>\n",
       "      <td>http://example.org/id/Republican</td>\n",
       "      <td>-31.0</td>\n",
       "      <td>http://example.org/id/sutriumAmphitheater</td>\n",
       "      <td>Republican</td>\n",
       "    </tr>\n",
       "  </tbody>\n",
       "</table>\n",
       "</div>"
      ],
      "text/plain": [
       "                          chronogrp    end  \\\n",
       "0   http://example.org/id/Caesarean  -44.0   \n",
       "1   http://example.org/id/Caesarean  -44.0   \n",
       "2   http://example.org/id/Caesarean  -44.0   \n",
       "3  http://example.org/id/Republican  -31.0   \n",
       "4  http://example.org/id/Republican  -31.0   \n",
       "\n",
       "                                             ramph     rchrono  \n",
       "0         http://example.org/id/espejoAmphitheater   Caesarean  \n",
       "1        http://example.org/id/carmonaAmphitheater   Caesarean  \n",
       "2        http://example.org/id/corinthAmphitheater   Caesarean  \n",
       "3  http://example.org/id/pozzuoliEarlyAmphitheater  Republican  \n",
       "4        http://example.org/id/sutriumAmphitheater  Republican  "
      ]
     },
     "execution_count": 13,
     "metadata": {},
     "output_type": "execute_result"
    }
   ],
   "source": [
    "result = g.query(\n",
    "        \"\"\"SELECT * WHERE {\n",
    "            ?ramph a <http://example.org/class/amphitheater> ;\n",
    "                    <http://example.org/property/chronogrp> ?rchrono .\n",
    "                    \n",
    "            ?chronogrp <http://example.org/property/label> ?rchrono ;\n",
    "                       <http://example.org/property/end> ?end\n",
    "                } ORDER BY ?end\"\"\")\n",
    "\n",
    "pd.DataFrame(result.bindings).head()"
   ]
  },
  {
   "cell_type": "code",
   "execution_count": 14,
   "metadata": {
    "collapsed": false
   },
   "outputs": [],
   "source": [
    "g.serialize(destination='ramphs.ttl', format='turtle')"
   ]
  }
 ],
 "metadata": {
  "kernelspec": {
   "display_name": "Python 3",
   "language": "python",
   "name": "python3"
  },
  "language_info": {
   "codemirror_mode": {
    "name": "ipython",
    "version": 3
   },
   "file_extension": ".py",
   "mimetype": "text/x-python",
   "name": "python",
   "nbconvert_exporter": "python",
   "pygments_lexer": "ipython3",
   "version": "3.5.2"
  }
 },
 "nbformat": 4,
 "nbformat_minor": 1
}
