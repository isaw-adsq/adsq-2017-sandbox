{
 "cells": [
  {
   "cell_type": "markdown",
   "metadata": {},
   "source": [
    "It might be useful to run 'pip3 install &lt;library&gt; --upgrade\" to make sure you have latest versions of pandas, matplotlib, etc."
   ]
  },
  {
   "cell_type": "code",
   "execution_count": null,
   "metadata": {
    "collapsed": false
   },
   "outputs": [],
   "source": [
    "import gzip            \n",
    "import io              \n",
    "import numpy as np\n",
    "import pandas as pd    \n",
    "import pymysql.cursors \n",
    "import rdflib\n",
    "from rdflib import Namespace\n",
    "import urllib.request  \n",
    "\n",
    "import matplotlib.pyplot as plt\n",
    "plt.style.use('ggplot')\n",
    "\n",
    "%matplotlib inline"
   ]
  },
  {
   "cell_type": "code",
   "execution_count": null,
   "metadata": {
    "collapsed": false
   },
   "outputs": [],
   "source": [
    "# Connect to the database\n",
    "# I will email you the file sebastia_adsq_params.txt . It's just a four line text file.\n",
    "# Put that in directory and the following line will read it.\n",
    "db_params = open(\"sebastia_adsqro_params.txt\").read().split()"
   ]
  },
  {
   "cell_type": "code",
   "execution_count": null,
   "metadata": {
    "collapsed": false
   },
   "outputs": [],
   "source": [
    "# Connect to the database\n",
    "\n",
    "connection = pymysql.connect(host=db_params[0],\n",
    "                             user=db_params[1],\n",
    "                             password=db_params[2],\n",
    "                             db=db_params[3],\n",
    "                             charset='utf8mb4',\n",
    "                             cursorclass=pymysql.cursors.DictCursor)"
   ]
  },
  {
   "cell_type": "markdown",
   "metadata": {},
   "source": [
    "## Turn 'ramphs' into Triples"
   ]
  },
  {
   "cell_type": "code",
   "execution_count": null,
   "metadata": {
    "collapsed": false
   },
   "outputs": [],
   "source": [
    "sql = \"select * from ramphs\"\n",
    "\n",
    "with connection.cursor() as cursor:\n",
    "\n",
    "    cursor.execute(sql)\n",
    "    names = [ x[0] for x in cursor.description]\n",
    "    result = cursor.fetchall()\n",
    "\n",
    "df = pd.DataFrame(result, columns = names)\n",
    "df.head()"
   ]
  },
  {
   "cell_type": "code",
   "execution_count": null,
   "metadata": {
    "collapsed": false
   },
   "outputs": [],
   "source": [
    "pseudo_triples = pd.melt(df,id_vars='id')\n",
    "pseudo_triples.replace('', np.nan, inplace=True)\n",
    "pseudo_triples.dropna(inplace=True)\n",
    "# pseudo_triples.head()"
   ]
  },
  {
   "cell_type": "code",
   "execution_count": null,
   "metadata": {
    "collapsed": true
   },
   "outputs": [],
   "source": [
    "g = rdflib.Graph()\n",
    "RDF = Namespace(\"http://www.w3.org/1999/02/22-rdf-syntax-ns#\")\n",
    "EXclass = Namespace(\"http://example.org/class/\")\n",
    "EXid = Namespace(\"http://example.org/id/\")\n",
    "EXproperty = Namespace(\"http://example.org/property/\")"
   ]
  },
  {
   "cell_type": "code",
   "execution_count": null,
   "metadata": {
    "collapsed": false
   },
   "outputs": [],
   "source": [
    "for t in pseudo_triples.iterrows():\n",
    "    s = rdflib.URIRef('http://example.org/id/%s' % t[1]['id'])\n",
    "    p = rdflib.URIRef('http://example.org/property/%s' % t[1]['variable'])\n",
    "\n",
    "    \n",
    "    g.add((s,rdflib.URIRef(RDF.type),EXclass.amphitheater))\n",
    "    if t[1]['variable'] in ['arenamajor','arenaminor','capacity','elevation','extmajor','extminor','longitude','latitude']:\n",
    "        o = rdflib.Literal(float(t[1]['value']))\n",
    "        g.add((s,p,o))\n",
    "    elif t[1]['variable'] in ['pleiades']:\n",
    "        o = rdflib.URIRef(t[1]['value'])\n",
    "        g.add((s,p,o))\n",
    "    else:\n",
    "        o = rdflib.Literal(str(t[1]['value']))\n",
    "        g.add((s,p,o))"
   ]
  },
  {
   "cell_type": "code",
   "execution_count": null,
   "metadata": {
    "collapsed": false
   },
   "outputs": [],
   "source": [
    "result = g.query(\n",
    "        \"\"\"SELECT * WHERE {\n",
    "            ?s <http://example.org/property/capacity> ?o .\n",
    "                } \"\"\")\n",
    "# pd.DataFrame(result.bindings)"
   ]
  },
  {
   "cell_type": "markdown",
   "metadata": {},
   "source": [
    "## Turn 'chronogroups' into Triples"
   ]
  },
  {
   "cell_type": "code",
   "execution_count": null,
   "metadata": {
    "collapsed": false
   },
   "outputs": [],
   "source": [
    "sql = \"select * from ramphs_chronogrps\"\n",
    "\n",
    "with connection.cursor() as cursor:\n",
    "\n",
    "    cursor.execute(sql)\n",
    "    names = [ x[0] for x in cursor.description]\n",
    "    result = cursor.fetchall()\n",
    "\n",
    "df = pd.DataFrame(result, columns = names)\n",
    "# df.head()"
   ]
  },
  {
   "cell_type": "code",
   "execution_count": null,
   "metadata": {
    "collapsed": false
   },
   "outputs": [],
   "source": [
    "df.rename(index=str, columns={\"id\": \"label\"}, inplace = True)\n",
    "newcol = df['label'].replace(r' ', '', regex = True)\n",
    "df = df.assign(idd = newcol)\n",
    "df.rename(index=str, columns={\"idd\": \"id\"}, inplace = True)\n",
    "# df.head()"
   ]
  },
  {
   "cell_type": "code",
   "execution_count": null,
   "metadata": {
    "collapsed": false
   },
   "outputs": [],
   "source": [
    "pseudo_triples = pd.melt(df,id_vars='id').sort_values('id')\n",
    "pseudo_triples.replace('', np.nan, inplace=True)\n",
    "pseudo_triples.dropna(inplace=True)\n",
    "\n",
    "for t in pseudo_triples.iterrows():\n",
    "    s = rdflib.URIRef('http://example.org/id/%s' % t[1]['id'])\n",
    "    p = rdflib.URIRef('http://example.org/property/%s' % t[1]['variable'])\n",
    "    \n",
    "    g.add((s,RDF.type,EXclass.chronogrp))\n",
    "    if t[1]['variable'] in ['start','end']:\n",
    "        o = rdflib.Literal(float(t[1]['value']))\n",
    "        g.add((s,p,o))\n",
    "    elif t[1]['variable'] in ['']:\n",
    "        o = rdflib.URIRef(t[1]['value'])\n",
    "        g.add((s,p,o))\n",
    "    else:\n",
    "        o = rdflib.Literal(str(t[1]['value']))\n",
    "        g.add((s,p,o))"
   ]
  },
  {
   "cell_type": "code",
   "execution_count": null,
   "metadata": {
    "collapsed": false
   },
   "outputs": [],
   "source": [
    "result = g.query(\n",
    "        \"\"\"SELECT ?p ?o WHERE {\n",
    "            <http://example.org/id/FirstCentury> ?p ?o .\n",
    "                } LIMIT 10\"\"\")\n",
    "# pd.DataFrame(result.bindings)"
   ]
  },
  {
   "cell_type": "code",
   "execution_count": null,
   "metadata": {
    "collapsed": false
   },
   "outputs": [],
   "source": [
    "result = g.query(\n",
    "        \"\"\"SELECT * WHERE {\n",
    "            ?ramph a <http://example.org/class/amphitheater> ;\n",
    "                    <http://example.org/property/chronogrp> ?rchrono .\n",
    "                    \n",
    "            ?chronogrp <http://example.org/property/label> ?rchrono ;\n",
    "                       <http://example.org/property/end> ?end\n",
    "                } ORDER BY ?end\"\"\")\n",
    "\n",
    "pd.DataFrame(result.bindings).head()"
   ]
  },
  {
   "cell_type": "code",
   "execution_count": null,
   "metadata": {
    "collapsed": false
   },
   "outputs": [],
   "source": [
    "g.serialize(destination='ramphs.ttl', format='turtle')"
   ]
  }
 ],
 "metadata": {
  "kernelspec": {
   "display_name": "Python 3",
   "language": "python",
   "name": "python3"
  },
  "language_info": {
   "codemirror_mode": {
    "name": "ipython",
    "version": 3
   },
   "file_extension": ".py",
   "mimetype": "text/x-python",
   "name": "python",
   "nbconvert_exporter": "python",
   "pygments_lexer": "ipython3",
   "version": "3.5.2"
  }
 },
 "nbformat": 4,
 "nbformat_minor": 1
}
