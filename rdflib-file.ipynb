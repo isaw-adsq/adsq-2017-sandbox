{
 "cells": [
  {
   "cell_type": "markdown",
   "metadata": {},
   "source": [
    "rdflib is required. 'pip3 install rdflib'\n",
    "\n",
    "It might also be useful to run 'pip3 install &lt;library&gt; --upgrade\" to make sure you have latest versions of pandas, matplotlib."
   ]
  },
  {
   "cell_type": "code",
   "execution_count": 1,
   "metadata": {
    "collapsed": false
   },
   "outputs": [],
   "source": [
    "# load libraries\n",
    "import numpy as np\n",
    "import pandas as pd\n",
    "import pymysql.cursors\n",
    "import rdflib\n",
    "\n",
    "import matplotlib.pyplot as plt\n",
    "plt.style.use('ggplot')\n",
    "%matplotlib inline\n"
   ]
  },
  {
   "cell_type": "code",
   "execution_count": 2,
   "metadata": {
    "collapsed": false
   },
   "outputs": [
    {
     "name": "stdout",
     "output_type": "stream",
     "text": [
      "4.2.2\n"
     ]
    }
   ],
   "source": [
    "print(rdflib.__version__)"
   ]
  },
  {
   "cell_type": "code",
   "execution_count": 3,
   "metadata": {
    "collapsed": false
   },
   "outputs": [
    {
     "data": {
      "text/plain": [
       "<Graph identifier=Nf8062ab152f64406a9e8303fbb11bb2b (<class 'rdflib.graph.Graph'>)>"
      ]
     },
     "execution_count": 3,
     "metadata": {},
     "output_type": "execute_result"
    }
   ],
   "source": [
    "g=rdflib.Graph()\n",
    "# g.parse('/Users/sfsh/Documents/kenchreai/kaa-ttl/kaa.trig', format = 'trig')\n",
    "g.parse('http://www.kenchreai.org/kaa-ttl/kaa.trig', format = 'trig')\n"
   ]
  },
  {
   "cell_type": "code",
   "execution_count": 4,
   "metadata": {
    "collapsed": false
   },
   "outputs": [
    {
     "name": "stdout",
     "output_type": "stream",
     "text": [
      "http://kenchreai.org/kaa/typology/p-sig-it\n",
      "http://kenchreai.org/kaa/typology/p-slipped-fw\n",
      "http://kenchreai.org/kaa/typology/p\n",
      "http://kenchreai.org/kaa/typology/generic\n",
      "http://kenchreai.org/kaa/typology/p-sig-it-conspectus-18\n",
      "http://kenchreai.org/kaa/typology/p-sig-it\n",
      "http://kenchreai.org/kaa/typology/p-slipped-fw\n",
      "http://kenchreai.org/kaa/typology/p\n",
      "http://kenchreai.org/kaa/typology/generic\n",
      "http://kenchreai.org/kaa/typology/p-sig-it\n",
      "http://kenchreai.org/kaa/typology/p-slipped-fw\n",
      "http://kenchreai.org/kaa/typology/p\n",
      "http://kenchreai.org/kaa/typology/generic\n",
      "http://kenchreai.org/kaa/typology/p-sig-it\n",
      "http://kenchreai.org/kaa/typology/p-slipped-fw\n",
      "http://kenchreai.org/kaa/typology/p\n",
      "http://kenchreai.org/kaa/typology/generic\n",
      "http://kenchreai.org/kaa/typology/p-sig-it\n",
      "http://kenchreai.org/kaa/typology/p-slipped-fw\n",
      "http://kenchreai.org/kaa/typology/p\n",
      "http://kenchreai.org/kaa/typology/generic\n"
     ]
    }
   ],
   "source": [
    "result = g.query(\n",
    "        \"\"\"SELECT * WHERE {\n",
    "            ?s kaaont:broader+/rdfs:label ?label .\n",
    "            ?s kaaont:broader/kaaont:has-geographic-origin kaa:italy .\n",
    "            ?uri rdfs:label ?label .\n",
    "                }\"\"\")\n",
    "for r in result:\n",
    "    print(r.uri)"
   ]
  }
 ],
 "metadata": {
  "kernelspec": {
   "display_name": "Python 3",
   "language": "python",
   "name": "python3"
  },
  "language_info": {
   "codemirror_mode": {
    "name": "ipython",
    "version": 3
   },
   "file_extension": ".py",
   "mimetype": "text/x-python",
   "name": "python",
   "nbconvert_exporter": "python",
   "pygments_lexer": "ipython3",
   "version": "3.5.2"
  }
 },
 "nbformat": 4,
 "nbformat_minor": 1
}
